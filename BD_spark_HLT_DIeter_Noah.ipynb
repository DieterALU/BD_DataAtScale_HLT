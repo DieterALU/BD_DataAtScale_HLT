{
 "cells": [
  {
   "cell_type": "markdown",
   "metadata": {},
   "source": [
    "<img src=\"bridge.jpg\" alt=\"concrete\">"
   ]
  },
  {
   "cell_type": "markdown",
   "metadata": {},
   "source": [
    "Concrete is the most important material in civil engineering. The concrete compressive strength is a highly nonlinear function of age and ingredients. These ingredients include cement, blast furnace slag, fly ash, \n",
    "water, superplasticizer, coarse aggregate, and fine aggregate. You will use these data to predict the compresive strength of a concrete block. The actual concrete compressive strength (MPa) for a given mixture  - our training  data was determined in a laboratory.   Data from [here](https://archive.ics.uci.edu/ml/datasets/Concrete+Compressive+Strength)\n",
    "  \n",
    "We now want to be able to predict concrete compressive strength without needing to measure it in a lab. You will need to read the data into spark, clean it by removing some missing values, and prepare it for model fitting. You will then need to fit an appropriate machine learning model, and output your predictions and saved model.  \n",
    "  \n",
    "You can find the data in the file **concrete.csv**. Once you have built your best model with these data. Please make predictions on these new data **concrete_unmeasured.csv** for which we do not know the concrete compressive strength.  "
   ]
  },
  {
   "cell_type": "markdown",
   "metadata": {},
   "source": [
    "### Start spark app"
   ]
  },
  {
   "cell_type": "code",
   "execution_count": 2,
   "metadata": {},
   "outputs": [],
   "source": [
    "import findspark\n",
    "findspark.init()"
   ]
  },
  {
   "cell_type": "code",
   "execution_count": 3,
   "metadata": {},
   "outputs": [],
   "source": [
    "from pyspark.sql import SparkSession\n",
    "\n",
    "spark = SparkSession \\\n",
    "    .builder \\\n",
    "    .appName(\"Spark_ml\") \\\n",
    "    .getOrCreate()"
   ]
  },
  {
   "cell_type": "markdown",
   "metadata": {},
   "source": [
    "### Load and clean data"
   ]
  },
  {
   "cell_type": "code",
   "execution_count": 4,
   "metadata": {},
   "outputs": [],
   "source": [
    "data = spark.read.csv(\"concrete.csv\",header=True)"
   ]
  },
  {
   "cell_type": "code",
   "execution_count": 5,
   "metadata": {},
   "outputs": [],
   "source": [
    "#drop nas\n",
    "data = data.dropna()"
   ]
  },
  {
   "cell_type": "code",
   "execution_count": 6,
   "metadata": {},
   "outputs": [
    {
     "name": "stdout",
     "output_type": "stream",
     "text": [
      "root\n",
      " |-- Cement_kgm3: string (nullable = true)\n",
      " |-- Blast_Furnace_Slag_kgm3: string (nullable = true)\n",
      " |-- Fly_Ash_kgm3: string (nullable = true)\n",
      " |-- Water_kgm3: string (nullable = true)\n",
      " |-- Superplasticizer_kgm3: string (nullable = true)\n",
      " |-- Coarse_Aggregate_kgm3: string (nullable = true)\n",
      " |-- Fine_Aggregate_kgm3: string (nullable = true)\n",
      " |-- Age_days: string (nullable = true)\n",
      " |-- Concrete_compressive_strength_MPa: string (nullable = true)\n",
      "\n"
     ]
    }
   ],
   "source": [
    "data.printSchema()"
   ]
  },
  {
   "cell_type": "code",
   "execution_count": 7,
   "metadata": {},
   "outputs": [],
   "source": [
    "# covert to numeric types\n",
    "#import double type from spark sql\n",
    "from pyspark.sql.types import DoubleType, IntegerType\n",
    "\n",
    "#convert all columns\n",
    "for col_name in data.columns:\n",
    "    data = data.withColumn(col_name, data[col_name].cast(DoubleType()))\n",
    "    \n",
    "# Split the data into training and test sets (30% held out for testing)\n",
    "(trainingData, testData) = data.randomSplit([0.7, 0.3])"
   ]
  },
  {
   "cell_type": "code",
   "execution_count": 8,
   "metadata": {},
   "outputs": [
    {
     "name": "stdout",
     "output_type": "stream",
     "text": [
      "root\n",
      " |-- Cement_kgm3: double (nullable = true)\n",
      " |-- Blast_Furnace_Slag_kgm3: double (nullable = true)\n",
      " |-- Fly_Ash_kgm3: double (nullable = true)\n",
      " |-- Water_kgm3: double (nullable = true)\n",
      " |-- Superplasticizer_kgm3: double (nullable = true)\n",
      " |-- Coarse_Aggregate_kgm3: double (nullable = true)\n",
      " |-- Fine_Aggregate_kgm3: double (nullable = true)\n",
      " |-- Age_days: double (nullable = true)\n",
      " |-- Concrete_compressive_strength_MPa: double (nullable = true)\n",
      "\n"
     ]
    }
   ],
   "source": [
    "data.printSchema()"
   ]
  },
  {
   "cell_type": "markdown",
   "metadata": {},
   "source": [
    "### Prepare data for model"
   ]
  },
  {
   "cell_type": "code",
   "execution_count": 9,
   "metadata": {},
   "outputs": [],
   "source": [
    "from pyspark.ml import Pipeline\n",
    "from pyspark.ml.feature import VectorAssembler\n",
    "from pyspark.ml.regression import DecisionTreeRegressor\n",
    "from pyspark.ml.evaluation import RegressionEvaluator"
   ]
  },
  {
   "cell_type": "code",
   "execution_count": 10,
   "metadata": {},
   "outputs": [],
   "source": [
    "# assemble variables to one feature column\n",
    "assembler = VectorAssembler(\n",
    "    inputCols = [\"Cement_kgm3\",\"Blast_Furnace_Slag_kgm3\",\"Fly_Ash_kgm3\",\"Water_kgm3\",\"Superplasticizer_kgm3\",\"Coarse_Aggregate_kgm3\",\"Fine_Aggregate_kgm3\",\"Age_days\"],\n",
    "    outputCol = \"features\")\n",
    "\n",
    "#define the estimator - decision tree\n",
    "dt = DecisionTreeRegressor(labelCol=\"Concrete_compressive_strength_MPa\", featuresCol=\"features\")\n",
    "\n",
    "# Chain indexers and tree in a Pipeline\n",
    "pipeline = Pipeline(stages=[assembler, dt])"
   ]
  },
  {
   "cell_type": "markdown",
   "metadata": {},
   "source": [
    "### Fit pipeline and transform data"
   ]
  },
  {
   "cell_type": "code",
   "execution_count": 11,
   "metadata": {},
   "outputs": [],
   "source": [
    "#fit the pipeline\n",
    "PipelineModel = pipeline.fit(trainingData)\n",
    "\n",
    "# transform using the pipeline\n",
    "predictions = PipelineModel.transform(testData)\n",
    "\n",
    "# evaluate model fit\n",
    "predictions.select(\"prediction\", \"Concrete_compressive_strength_MPa\")\n",
    "evaluator = RegressionEvaluator(\n",
    "    labelCol=\"Concrete_compressive_strength_MPa\", predictionCol=\"prediction\", metricName=\"rmse\")\n",
    "rmse = evaluator.evaluate(predictions)"
   ]
  },
  {
   "cell_type": "code",
   "execution_count": 12,
   "metadata": {},
   "outputs": [
    {
     "name": "stdout",
     "output_type": "stream",
     "text": [
      "+-----------+-----------------------+------------+----------+---------------------+---------------------+-------------------+--------+---------------------------------+--------------------+------------------+\n",
      "|Cement_kgm3|Blast_Furnace_Slag_kgm3|Fly_Ash_kgm3|Water_kgm3|Superplasticizer_kgm3|Coarse_Aggregate_kgm3|Fine_Aggregate_kgm3|Age_days|Concrete_compressive_strength_MPa|            features|        prediction|\n",
      "+-----------+-----------------------+------------+----------+---------------------+---------------------+-------------------+--------+---------------------------------+--------------------+------------------+\n",
      "|      108.3|                  162.4|         0.0|     203.5|                  0.0|                938.2|              849.0|     3.0|                      2.331807832|[108.3,162.4,0.0,...|5.3064371213333335|\n",
      "|      108.3|                  162.4|         0.0|     203.5|                  0.0|                938.2|              849.0|    28.0|                     20.593958644|[108.3,162.4,0.0,...|30.673255071111104|\n",
      "|      116.0|                  173.0|         0.0|     192.0|                  0.0|                909.8|              891.9|     7.0|                     10.089791784|[116.0,173.0,0.0,...|  9.98971926742857|\n",
      "|      116.0|                  173.0|         0.0|     192.0|                  0.0|                909.8|              891.9|    28.0|                     22.347985588|[116.0,173.0,0.0,...|30.673255071111104|\n",
      "|      116.0|                  173.0|         0.0|     192.0|                  0.0|                909.8|              891.9|    90.0|                     31.023662096|[116.0,173.0,0.0,...|      23.660058416|\n",
      "|      122.6|                  183.9|         0.0|     203.5|                  0.0|                958.2|              800.1|     7.0|                     10.354550568|[122.6,183.9,0.0,...|  9.98971926742857|\n",
      "|      122.6|                  183.9|         0.0|     203.5|                  0.0|                958.2|              800.1|    28.0|                     24.290928956|[122.6,183.9,0.0,...|30.673255071111104|\n",
      "|      132.0|                  207.0|       161.0|     179.0|                  5.0|                867.0|              736.0|    28.0|                       33.3016908|[132.0,207.0,161....|30.673255071111104|\n",
      "|      133.0|                  200.0|         0.0|     192.0|                  0.0|                927.4|              839.2|     3.0|                      6.883728384|[133.0,200.0,0.0,...|5.3064371213333335|\n",
      "|      133.0|                  200.0|         0.0|     192.0|                  0.0|                927.4|              839.2|    28.0|                     27.874825204|[133.0,200.0,0.0,...|30.673255071111104|\n",
      "|      133.1|                  210.2|         0.0|     195.7|                  3.1|                949.4|              795.3|    28.0|                     28.937997196|[133.1,210.2,0.0,...|30.673255071111104|\n",
      "|      134.7|                    0.0|       165.7|     180.2|                 10.0|                961.0|              804.9|    28.0|                     13.293786756|[134.7,0.0,165.7,...|     14.2849946905|\n",
      "|      136.0|                  196.0|        98.0|     199.0|                  6.0|                847.0|              783.0|    28.0|                      26.96540636|[136.0,196.0,98.0...|30.673255071111104|\n",
      "|      139.6|                  209.4|         0.0|     192.0|                  0.0|               1047.0|              806.9|    90.0|                     39.358047984|[139.6,209.4,0.0,...| 41.07094618573913|\n",
      "|      139.6|                  209.4|         0.0|     192.0|                  0.0|               1047.0|              806.9|   180.0|                     44.207822168|[139.6,209.4,0.0,...| 41.07094618573913|\n",
      "|      140.0|                  164.0|       128.0|     237.0|                  6.0|                869.0|              656.0|    28.0|                      35.22532884|[140.0,164.0,128....|30.673255071111104|\n",
      "|      141.3|                  212.0|         0.0|     203.5|                  0.0|                971.8|              748.5|    90.0|                       39.6621069|[141.3,212.0,0.0,...| 51.48472072319495|\n",
      "|      142.0|                  167.0|       130.0|     174.0|                 11.0|                883.0|              785.0|    28.0|                       44.6090972|[142.0,167.0,130....|30.673255071111104|\n",
      "|      143.6|                    0.0|       174.9|     158.4|                 17.9|                942.7|              844.5|    28.0|                      15.42357812|[143.6,0.0,174.9,...|     14.2849946905|\n",
      "|      145.0|                    0.0|       134.0|     181.0|                 11.0|                979.0|              812.0|    28.0|                      13.19657064|[145.0,0.0,134.0,...|     14.2849946905|\n",
      "+-----------+-----------------------+------------+----------+---------------------+---------------------+-------------------+--------+---------------------------------+--------------------+------------------+\n",
      "only showing top 20 rows\n",
      "\n"
     ]
    }
   ],
   "source": [
    "predictions.show()"
   ]
  },
  {
   "cell_type": "code",
   "execution_count": 13,
   "metadata": {},
   "outputs": [
    {
     "name": "stdout",
     "output_type": "stream",
     "text": [
      "7.836919186790907\n"
     ]
    }
   ],
   "source": [
    "##Root mean square error\n",
    "print(rmse)"
   ]
  },
  {
   "cell_type": "code",
   "execution_count": 14,
   "metadata": {},
   "outputs": [],
   "source": [
    "#save the fitted pipeline for later use\n",
    "PipelineModel.save(\"my_pipeline\")"
   ]
  },
  {
   "cell_type": "markdown",
   "metadata": {},
   "source": [
    "### Predict new data"
   ]
  },
  {
   "cell_type": "code",
   "execution_count": 15,
   "metadata": {},
   "outputs": [],
   "source": [
    "data_pred = spark.read.csv(\"concrete_unmeasured.csv\",header=True)"
   ]
  },
  {
   "cell_type": "code",
   "execution_count": 16,
   "metadata": {},
   "outputs": [],
   "source": [
    "#drop nas\n",
    "data_pred = data_pred.dropna()"
   ]
  },
  {
   "cell_type": "code",
   "execution_count": 17,
   "metadata": {},
   "outputs": [
    {
     "name": "stdout",
     "output_type": "stream",
     "text": [
      "root\n",
      " |-- Cement_kgm3: string (nullable = true)\n",
      " |-- Blast_Furnace_Slag_kgm3: string (nullable = true)\n",
      " |-- Fly_Ash_kgm3: string (nullable = true)\n",
      " |-- Water_kgm3: string (nullable = true)\n",
      " |-- Superplasticizer_kgm3: string (nullable = true)\n",
      " |-- Coarse_Aggregate_kgm3: string (nullable = true)\n",
      " |-- Fine_Aggregate_kgm3: string (nullable = true)\n",
      " |-- Age_days: string (nullable = true)\n",
      "\n"
     ]
    }
   ],
   "source": [
    "data_pred.printSchema()"
   ]
  },
  {
   "cell_type": "code",
   "execution_count": 18,
   "metadata": {},
   "outputs": [],
   "source": [
    "# covert to numeric types\n",
    "#import double type from spark sql\n",
    "from pyspark.sql.types import DoubleType, IntegerType\n",
    "\n",
    "#convert all columns\n",
    "for col_name in data_pred.columns:\n",
    "    data_pred = data_pred.withColumn(col_name, data_pred[col_name].cast(DoubleType()))"
   ]
  },
  {
   "cell_type": "code",
   "execution_count": 22,
   "metadata": {},
   "outputs": [],
   "source": [
    "pipe =PipelineModel.load(\"my_pipeline\")"
   ]
  },
  {
   "cell_type": "code",
   "execution_count": 23,
   "metadata": {},
   "outputs": [],
   "source": [
    "preds = pipe.transform(data_pred)"
   ]
  },
  {
   "cell_type": "code",
   "execution_count": 27,
   "metadata": {},
   "outputs": [
    {
     "name": "stdout",
     "output_type": "stream",
     "text": [
      "+-----------+-----------------------+------------+----------+---------------------+---------------------+-------------------+--------+--------------------+------------------+\n",
      "|Cement_kgm3|Blast_Furnace_Slag_kgm3|Fly_Ash_kgm3|Water_kgm3|Superplasticizer_kgm3|Coarse_Aggregate_kgm3|Fine_Aggregate_kgm3|Age_days|            features|        prediction|\n",
      "+-----------+-----------------------+------------+----------+---------------------+---------------------+-------------------+--------+--------------------+------------------+\n",
      "|      425.0|                  106.3|         0.0|     153.5|                 16.5|                852.1|              887.1|    28.0|[425.0,106.3,0.0,...|48.562155612969704|\n",
      "|      425.0|                  106.3|         0.0|     151.4|                 18.6|                936.0|              803.7|    28.0|[425.0,106.3,0.0,...|48.562155612969704|\n",
      "|      375.0|                   93.8|         0.0|     126.6|                 23.4|                852.1|              992.6|    28.0|[375.0,93.8,0.0,1...|48.562155612969704|\n",
      "|      475.0|                  118.8|         0.0|     181.1|                  8.9|                852.1|              781.5|    28.0|[475.0,118.8,0.0,...|44.027779000347806|\n",
      "|      469.0|                  117.2|         0.0|     137.8|                 32.2|                852.1|              840.5|    28.0|[469.0,117.2,0.0,...|48.562155612969704|\n",
      "|      425.0|                  106.3|         0.0|     153.5|                 16.5|                852.1|              887.1|    28.0|[425.0,106.3,0.0,...|48.562155612969704|\n",
      "|      388.6|                   97.1|         0.0|     157.9|                 12.1|                852.1|              925.7|    28.0|[388.6,97.1,0.0,1...|48.562155612969704|\n",
      "|      531.3|                    0.0|         0.0|     141.8|                 28.2|                852.1|              893.7|    28.0|[531.3,0.0,0.0,14...|48.562155612969704|\n",
      "|      425.0|                  106.3|         0.0|     153.5|                 16.5|                852.1|              887.1|    28.0|[425.0,106.3,0.0,...|48.562155612969704|\n",
      "|      318.8|                  212.5|         0.0|     155.7|                 14.3|                852.1|              880.4|    28.0|[318.8,212.5,0.0,...|48.562155612969704|\n",
      "|      401.8|                   94.7|         0.0|     147.4|                 11.4|                946.8|              852.1|    28.0|[401.8,94.7,0.0,1...|48.562155612969704|\n",
      "|      362.6|                  189.0|         0.0|     164.9|                 11.6|                944.7|              755.8|    28.0|[362.6,189.0,0.0,...|48.562155612969704|\n",
      "|      323.7|                  282.8|         0.0|     183.8|                 10.3|                942.7|              659.9|    28.0|[323.7,282.8,0.0,...|44.027779000347806|\n",
      "|      379.5|                  151.2|         0.0|     153.9|                 15.9|               1134.3|              605.0|    28.0|[379.5,151.2,0.0,...| 66.07800088799998|\n",
      "|      362.6|                  189.0|         0.0|     164.9|                 11.6|                944.7|              755.8|    28.0|[362.6,189.0,0.0,...|48.562155612969704|\n",
      "|      286.3|                  200.9|         0.0|     144.7|                 11.2|               1004.6|              803.7|    28.0|[286.3,200.9,0.0,...| 66.07800088799998|\n",
      "|      362.6|                  189.0|         0.0|     164.9|                 11.6|                944.7|              755.8|    28.0|[362.6,189.0,0.0,...|48.562155612969704|\n",
      "|      439.0|                  177.0|         0.0|     186.0|                 11.1|                884.9|              707.9|    28.0|[439.0,177.0,0.0,...|44.027779000347806|\n",
      "|      389.9|                  189.0|         0.0|     145.9|                 22.0|                944.7|              755.8|    28.0|[389.9,189.0,0.0,...|48.562155612969704|\n",
      "|      362.6|                  189.0|         0.0|     164.9|                 11.6|                944.7|              755.8|    28.0|[362.6,189.0,0.0,...|48.562155612969704|\n",
      "+-----------+-----------------------+------------+----------+---------------------+---------------------+-------------------+--------+--------------------+------------------+\n",
      "\n"
     ]
    }
   ],
   "source": [
    "preds.show()"
   ]
  },
  {
   "cell_type": "code",
   "execution_count": 28,
   "metadata": {},
   "outputs": [],
   "source": [
    "spark.stop()"
   ]
  },
  {
   "cell_type": "markdown",
   "metadata": {},
   "source": [
    "### END"
   ]
  }
 ],
 "metadata": {
  "kernelspec": {
   "display_name": "Python 3",
   "language": "python",
   "name": "python3"
  },
  "language_info": {
   "codemirror_mode": {
    "name": "ipython",
    "version": 3
   },
   "file_extension": ".py",
   "mimetype": "text/x-python",
   "name": "python",
   "nbconvert_exporter": "python",
   "pygments_lexer": "ipython3",
   "version": "3.6.5"
  }
 },
 "nbformat": 4,
 "nbformat_minor": 2
}
